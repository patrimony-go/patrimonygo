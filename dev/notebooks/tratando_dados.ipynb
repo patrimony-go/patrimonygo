{
 "cells": [
  {
   "cell_type": "code",
   "execution_count": 1,
   "id": "a7931565",
   "metadata": {},
   "outputs": [],
   "source": [
    "import pandas as pandas"
   ]
  },
  {
   "cell_type": "code",
   "execution_count": 6,
   "id": "d2a63d55",
   "metadata": {},
   "outputs": [],
   "source": [
    "df_patri_santos = pandas.read_excel(\"../data/data_predios_santos.xlsx\")"
   ]
  },
  {
   "cell_type": "code",
   "execution_count": 7,
   "id": "207d6415",
   "metadata": {},
   "outputs": [
    {
     "data": {
      "text/html": [
       "<div>\n",
       "<style scoped>\n",
       "    .dataframe tbody tr th:only-of-type {\n",
       "        vertical-align: middle;\n",
       "    }\n",
       "\n",
       "    .dataframe tbody tr th {\n",
       "        vertical-align: top;\n",
       "    }\n",
       "\n",
       "    .dataframe thead th {\n",
       "        text-align: right;\n",
       "    }\n",
       "</style>\n",
       "<table border=\"1\" class=\"dataframe\">\n",
       "  <thead>\n",
       "    <tr style=\"text-align: right;\">\n",
       "      <th></th>\n",
       "      <th>PATRIMÔNIO</th>\n",
       "      <th>LOCALIZAÇÃO</th>\n",
       "      <th>PROJETO</th>\n",
       "      <th>AUTOR DO PROJETO</th>\n",
       "      <th>INAUGURAÇÃO</th>\n",
       "      <th>USO ORIGINAL</th>\n",
       "      <th>USO ATUAL</th>\n",
       "      <th>HISTÓRICO</th>\n",
       "      <th>TOMBAMENTO</th>\n",
       "      <th>GRAU</th>\n",
       "      <th>FUNCIONAMENTO</th>\n",
       "      <th>FONTE</th>\n",
       "    </tr>\n",
       "  </thead>\n",
       "  <tbody>\n",
       "    <tr>\n",
       "      <th>0</th>\n",
       "      <td>CASA DO TREM BÉLICO</td>\n",
       "      <td>Rua Tiro Onze, 11 - Centro, Santos - SP, 11013...</td>\n",
       "      <td>1734</td>\n",
       "      <td>José da Silva Pais</td>\n",
       "      <td>1738</td>\n",
       "      <td>Armazém de equipamento bélico</td>\n",
       "      <td>Espaço Cultural</td>\n",
       "      <td>Foi tombada em 1937 e entregada ao Instituto d...</td>\n",
       "      <td>1937</td>\n",
       "      <td>(IPHAN)</td>\n",
       "      <td>Dias: Quarta-feira a sábado\\nHorário: 11h às 1...</td>\n",
       "      <td>https://www.turismosantos.com.br/?q=pt-br/casa...</td>\n",
       "    </tr>\n",
       "    <tr>\n",
       "      <th>1</th>\n",
       "      <td>IGREJA NOSSA SENHORA DO ROSÁRIO</td>\n",
       "      <td>Praça Ruy Barbosa, S/N - Centro, Santos - SP, ...</td>\n",
       "      <td>1882</td>\n",
       "      <td>Marx Hell</td>\n",
       "      <td>1924</td>\n",
       "      <td>Capela</td>\n",
       "      <td>Igreja</td>\n",
       "      <td>A história da construção desse templo tem orig...</td>\n",
       "      <td>NaN</td>\n",
       "      <td>NaN</td>\n",
       "      <td>Dias: todos os dias exceto terça e sábado\\nHor...</td>\n",
       "      <td>https://www.resjeroteirosbaixadasantista.prceu...</td>\n",
       "    </tr>\n",
       "    <tr>\n",
       "      <th>2</th>\n",
       "      <td>BASÍLICA EMBARÉ</td>\n",
       "      <td>Av. Bartholomeu de Gusmão, 32 - Embaré, Santos...</td>\n",
       "      <td>1929</td>\n",
       "      <td>E. Kemnitz</td>\n",
       "      <td>1945</td>\n",
       "      <td>Capela</td>\n",
       "      <td>Basílica Menor de Santo Antônio do Embaré</td>\n",
       "      <td>Decoração: Pedro Gentili e Henrique Hudger\\nCo...</td>\n",
       "      <td>NaN</td>\n",
       "      <td>NaN</td>\n",
       "      <td>Dias: Segunda à Sábado\\nHorário: Segunda à Sex...</td>\n",
       "      <td>NaN</td>\n",
       "    </tr>\n",
       "    <tr>\n",
       "      <th>3</th>\n",
       "      <td>CASA DA CÂMARA E CADEIA</td>\n",
       "      <td>Pr. dos Andradas, S/N - Centro, Santos -\\nSP, ...</td>\n",
       "      <td>1836</td>\n",
       "      <td>Desconhecido</td>\n",
       "      <td>1866</td>\n",
       "      <td>administração publica municipal</td>\n",
       "      <td>Uso educacional</td>\n",
       "      <td>Estrutura: pedra, cal, argila, areia e melado ...</td>\n",
       "      <td>NaN</td>\n",
       "      <td>NaN</td>\n",
       "      <td>Dias: Segunda a sexta\\nHorário: 08:00 a 18:00\\...</td>\n",
       "      <td>http://jornalperspectiva.com.br/santos-e-suas...</td>\n",
       "    </tr>\n",
       "    <tr>\n",
       "      <th>4</th>\n",
       "      <td>DECK DO PESCADOR</td>\n",
       "      <td>Avenida Bartolomeu de Gusmão, em frente ao no ...</td>\n",
       "      <td>2003</td>\n",
       "      <td>Ricardo Cuttin e Carlos Prates</td>\n",
       "      <td>2003</td>\n",
       "      <td>Pesca</td>\n",
       "      <td>Pesca</td>\n",
       "      <td>Arquitetura: Departamento de Arquitetura da PR...</td>\n",
       "      <td>NaN</td>\n",
       "      <td>NaN</td>\n",
       "      <td>Dias: Todos os dias\\nHorário: Aberto para a pr...</td>\n",
       "      <td>NaN</td>\n",
       "    </tr>\n",
       "  </tbody>\n",
       "</table>\n",
       "</div>"
      ],
      "text/plain": [
       "                        PATRIMÔNIO  \\\n",
       "0              CASA DO TREM BÉLICO   \n",
       "1  IGREJA NOSSA SENHORA DO ROSÁRIO   \n",
       "2                  BASÍLICA EMBARÉ   \n",
       "3          CASA DA CÂMARA E CADEIA   \n",
       "4                 DECK DO PESCADOR   \n",
       "\n",
       "                                         LOCALIZAÇÃO PROJETO  \\\n",
       "0  Rua Tiro Onze, 11 - Centro, Santos - SP, 11013...    1734   \n",
       "1  Praça Ruy Barbosa, S/N - Centro, Santos - SP, ...    1882   \n",
       "2  Av. Bartholomeu de Gusmão, 32 - Embaré, Santos...    1929   \n",
       "3  Pr. dos Andradas, S/N - Centro, Santos -\\nSP, ...    1836   \n",
       "4  Avenida Bartolomeu de Gusmão, em frente ao no ...    2003   \n",
       "\n",
       "                 AUTOR DO PROJETO INAUGURAÇÃO  \\\n",
       "0              José da Silva Pais        1738   \n",
       "1                       Marx Hell        1924   \n",
       "2                      E. Kemnitz        1945   \n",
       "3                    Desconhecido        1866   \n",
       "4  Ricardo Cuttin e Carlos Prates        2003   \n",
       "\n",
       "                      USO ORIGINAL                                  USO ATUAL  \\\n",
       "0    Armazém de equipamento bélico                            Espaço Cultural   \n",
       "1                           Capela                                     Igreja   \n",
       "2                           Capela  Basílica Menor de Santo Antônio do Embaré   \n",
       "3  administração publica municipal                            Uso educacional   \n",
       "4                            Pesca                                      Pesca   \n",
       "\n",
       "                                           HISTÓRICO TOMBAMENTO     GRAU  \\\n",
       "0  Foi tombada em 1937 e entregada ao Instituto d...       1937  (IPHAN)   \n",
       "1  A história da construção desse templo tem orig...        NaN      NaN   \n",
       "2  Decoração: Pedro Gentili e Henrique Hudger\\nCo...        NaN      NaN   \n",
       "3  Estrutura: pedra, cal, argila, areia e melado ...        NaN      NaN   \n",
       "4  Arquitetura: Departamento de Arquitetura da PR...        NaN      NaN   \n",
       "\n",
       "                                       FUNCIONAMENTO  \\\n",
       "0  Dias: Quarta-feira a sábado\\nHorário: 11h às 1...   \n",
       "1  Dias: todos os dias exceto terça e sábado\\nHor...   \n",
       "2  Dias: Segunda à Sábado\\nHorário: Segunda à Sex...   \n",
       "3  Dias: Segunda a sexta\\nHorário: 08:00 a 18:00\\...   \n",
       "4  Dias: Todos os dias\\nHorário: Aberto para a pr...   \n",
       "\n",
       "                                               FONTE  \n",
       "0  https://www.turismosantos.com.br/?q=pt-br/casa...  \n",
       "1  https://www.resjeroteirosbaixadasantista.prceu...  \n",
       "2                                                NaN  \n",
       "3   http://jornalperspectiva.com.br/santos-e-suas...  \n",
       "4                                                NaN  "
      ]
     },
     "execution_count": 7,
     "metadata": {},
     "output_type": "execute_result"
    }
   ],
   "source": [
    "df_patri_santos.head()"
   ]
  },
  {
   "cell_type": "code",
   "execution_count": 8,
   "id": "77b0dfbe",
   "metadata": {},
   "outputs": [
    {
     "data": {
      "text/plain": [
       "PATRIMÔNIO          object\n",
       "LOCALIZAÇÃO         object\n",
       "PROJETO             object\n",
       "AUTOR DO PROJETO    object\n",
       "INAUGURAÇÃO         object\n",
       "USO ORIGINAL        object\n",
       "USO ATUAL           object\n",
       "HISTÓRICO           object\n",
       "TOMBAMENTO          object\n",
       "GRAU                object\n",
       "FUNCIONAMENTO       object\n",
       "FONTE               object\n",
       "dtype: object"
      ]
     },
     "execution_count": 8,
     "metadata": {},
     "output_type": "execute_result"
    }
   ],
   "source": [
    "df_patri_santos.dtypes"
   ]
  },
  {
   "cell_type": "code",
   "execution_count": 9,
   "id": "b4a91e5e",
   "metadata": {},
   "outputs": [],
   "source": [
    "df_patri_santos = df_patri_santos.rename(\n",
    "    columns={\n",
    "        \"PATRIMÔNIO\": \"nm_patrimonio\",\n",
    "        \"LOCALIZAÇÃO\": \"ds_localizacao\",\n",
    "        \"PROJETO\": \"ic_projeto\",\n",
    "        \"AUTOR DO PROJETO\": \"nm_autor_projeto\",\n",
    "        \"INAUGURAÇÃO\": \"ic_inauguracao\",\n",
    "        \"USO ORIGINAL\": \"ds_uso_original\",\n",
    "        \"USO ATUAL\": \"ds_uso_atual\",\n",
    "        \"HISTÓRICO\": \"ds_historico\",\n",
    "        \"TOMBAMENTO\": \"ic_tombamento\",\n",
    "        \"GRAU\": \"ds_grau\",\n",
    "        \"FUNCIONAMENTO\": \"ds_funcionamento\",\n",
    "        \"FONTE\": \"ds_fonte\",\n",
    "    }\n",
    ")"
   ]
  },
  {
   "cell_type": "code",
   "execution_count": 12,
   "id": "50acdacf",
   "metadata": {},
   "outputs": [
    {
     "data": {
      "text/plain": [
       "np.int64(15)"
      ]
     },
     "execution_count": 12,
     "metadata": {},
     "output_type": "execute_result"
    }
   ],
   "source": [
    "df_patri_santos[\"ic_tombamento\"].isna().sum()"
   ]
  }
 ],
 "metadata": {
  "kernelspec": {
   "display_name": "patriGo",
   "language": "python",
   "name": "python3"
  },
  "language_info": {
   "codemirror_mode": {
    "name": "ipython",
    "version": 3
   },
   "file_extension": ".py",
   "mimetype": "text/x-python",
   "name": "python",
   "nbconvert_exporter": "python",
   "pygments_lexer": "ipython3",
   "version": "3.13.3"
  }
 },
 "nbformat": 4,
 "nbformat_minor": 5
}
